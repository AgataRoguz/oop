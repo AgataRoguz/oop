{
 "cells": [
  {
   "cell_type": "markdown",
   "metadata": {},
   "source": [
    "# Programowanie obiektowe\n",
    "Dzien pierwszy:\n",
    "* konfiguracja srodowiska\n",
    "* instalacja pakietow\n",
    "* jupyter"
   ]
  },
  {
   "cell_type": "markdown",
   "metadata": {},
   "source": [
    "### jak uzywac jupytera"
   ]
  },
  {
   "cell_type": "markdown",
   "metadata": {},
   "source": [
    "## Cwiczenie Jupyter"
   ]
  },
  {
   "cell_type": "code",
   "execution_count": 16,
   "metadata": {},
   "outputs": [],
   "source": [
    "lista_plikow = !ls *.txt"
   ]
  },
  {
   "cell_type": "code",
   "execution_count": 40,
   "metadata": {},
   "outputs": [
    {
     "name": "stdout",
     "output_type": "stream",
     "text": [
      "<class 'IPython.utils.text.SList'>\n",
      "44 requirements.txt\r\n"
     ]
    }
   ],
   "source": [
    "print(type(lista_plikow))\n",
    "\n",
    "for plik in lista_plikow:\n",
    "    !wc -l {plik}"
   ]
  },
  {
   "cell_type": "markdown",
   "metadata": {},
   "source": [
    "## Przykłady obiektów"
   ]
  },
  {
   "cell_type": "code",
   "execution_count": 63,
   "metadata": {},
   "outputs": [],
   "source": [
    "\n",
    "class Car:\n",
    "    '''This is Car model'''\n",
    "    def __init__(self, color, brand, model, doors_no):\n",
    "        self.color = color\n",
    "        self.brand = brand\n",
    "        self.model = model\n",
    "        self.doors_no = doors_no\n",
    "    \n",
    "    def __repr__(self):\n",
    "        return \"{} {} \".format(self.brand, self.model)\n",
    "        \n",
    "        "
   ]
  },
  {
   "cell_type": "code",
   "execution_count": 64,
   "metadata": {},
   "outputs": [],
   "source": [
    "nasz_fiat_tipo = Car(\"rozowy\", \"fiat\", \"tipo\", 4)"
   ]
  },
  {
   "cell_type": "code",
   "execution_count": 65,
   "metadata": {},
   "outputs": [
    {
     "name": "stdout",
     "output_type": "stream",
     "text": [
      "rozowy\n",
      "fiat\n",
      "tipo\n",
      "4\n"
     ]
    }
   ],
   "source": [
    "print(nasz_fiat_tipo.color)\n",
    "print(nasz_fiat_tipo.brand)\n",
    "print(nasz_fiat_tipo.model)\n",
    "print(nasz_fiat_tipo.doors_no)"
   ]
  },
  {
   "cell_type": "code",
   "execution_count": 66,
   "metadata": {},
   "outputs": [],
   "source": [
    "nasz_toyta = Car('bialy', \"toyota\", \"auris\", 5)"
   ]
  },
  {
   "cell_type": "markdown",
   "metadata": {},
   "source": [
    "## Instancja vs klasa"
   ]
  },
  {
   "cell_type": "markdown",
   "metadata": {},
   "source": [
    "* klasa jest abstrakcja, definiuje poprzez konstruktor w jaki sposob tworzyc obiekt\n",
    "* obiekt to konktetna reprezentacja klasy"
   ]
  },
  {
   "cell_type": "code",
   "execution_count": 67,
   "metadata": {},
   "outputs": [
    {
     "name": "stdout",
     "output_type": "stream",
     "text": [
      "fiat tipo \n"
     ]
    }
   ],
   "source": [
    "print(nasz_fiat_tipo)"
   ]
  },
  {
   "cell_type": "code",
   "execution_count": 68,
   "metadata": {},
   "outputs": [
    {
     "data": {
      "text/plain": [
       "True"
      ]
     },
     "execution_count": 68,
     "metadata": {},
     "output_type": "execute_result"
    }
   ],
   "source": [
    "isinstance(nasz_fiat_tipo, Car)"
   ]
  },
  {
   "cell_type": "code",
   "execution_count": 71,
   "metadata": {},
   "outputs": [],
   "source": [
    "\n",
    "class Car:\n",
    "    '''This is Car model'''\n",
    "    def __init__(self, color, brand, model, doors_no, speed=0):\n",
    "        self.color = color\n",
    "        self.brand = brand\n",
    "        self.model = model\n",
    "        self.doors_no = doors_no\n",
    "        self.speed = speed\n",
    "    \n",
    "    def __repr__(self):\n",
    "        return \"{} {} \".format(self.brand, self.model)\n",
    "    \n",
    "    "
   ]
  },
  {
   "cell_type": "code",
   "execution_count": 79,
   "metadata": {},
   "outputs": [],
   "source": [
    "bmw = Car('red', \"BWM\", \"320i\", 4, 100)"
   ]
  },
  {
   "cell_type": "code",
   "execution_count": 80,
   "metadata": {},
   "outputs": [
    {
     "data": {
      "text/plain": [
       "100"
      ]
     },
     "execution_count": 80,
     "metadata": {},
     "output_type": "execute_result"
    }
   ],
   "source": [
    "bmw.speed"
   ]
  },
  {
   "cell_type": "code",
   "execution_count": 84,
   "metadata": {},
   "outputs": [],
   "source": [
    "class Car:\n",
    "    '''This is Car model'''\n",
    "    wheels = 4\n",
    "    \n",
    "    def __init__(self, color, brand, model, doors_no, speed=0):\n",
    "        self.color = color\n",
    "        self.brand = brand\n",
    "        self.model = model\n",
    "        self.doors_no = doors_no\n",
    "        self.speed = speed\n",
    "    \n",
    "    def __repr__(self):\n",
    "        return \"{} {} \".format(self.brand, self.model)\n",
    "    \n",
    "    def wheels_count(self):\n",
    "        return self.wheels"
   ]
  },
  {
   "cell_type": "code",
   "execution_count": 85,
   "metadata": {},
   "outputs": [],
   "source": [
    "bmw = Car('red', \"BWM\", \"320i\", 4, 100)"
   ]
  },
  {
   "cell_type": "code",
   "execution_count": null,
   "metadata": {},
   "outputs": [],
   "source": []
  },
  {
   "cell_type": "code",
   "execution_count": 87,
   "metadata": {},
   "outputs": [
    {
     "data": {
      "text/plain": [
       "4"
      ]
     },
     "execution_count": 87,
     "metadata": {},
     "output_type": "execute_result"
    }
   ],
   "source": [
    "bmw.wheels"
   ]
  },
  {
   "cell_type": "code",
   "execution_count": 88,
   "metadata": {},
   "outputs": [
    {
     "data": {
      "text/plain": [
       "4"
      ]
     },
     "execution_count": 88,
     "metadata": {},
     "output_type": "execute_result"
    }
   ],
   "source": [
    "Car.wheels"
   ]
  },
  {
   "cell_type": "code",
   "execution_count": 90,
   "metadata": {},
   "outputs": [
    {
     "data": {
      "text/plain": [
       "{'brand': 'BWM', 'color': 'red', 'doors_no': 4, 'model': '320i', 'speed': 100}"
      ]
     },
     "execution_count": 90,
     "metadata": {},
     "output_type": "execute_result"
    }
   ],
   "source": [
    "bmw.__dict__"
   ]
  },
  {
   "cell_type": "code",
   "execution_count": 92,
   "metadata": {},
   "outputs": [
    {
     "data": {
      "text/plain": [
       "'BWM 320i '"
      ]
     },
     "execution_count": 92,
     "metadata": {},
     "output_type": "execute_result"
    }
   ],
   "source": [
    "bmw.__repr__()"
   ]
  },
  {
   "cell_type": "code",
   "execution_count": 93,
   "metadata": {},
   "outputs": [],
   "source": [
    "class Car:\n",
    "    '''This is Car model'''\n",
    "    wheels = 4\n",
    "    car_id = 0\n",
    "    \n",
    "    def __init__(self, color, brand, model, doors_no, speed=0):\n",
    "        self.color = color\n",
    "        self.brand = brand\n",
    "        self.model = model\n",
    "        self.doors_no = doors_no\n",
    "        self.speed = speed\n",
    "        Car.car_id += 1\n",
    "        \n",
    "    def __del__(self):\n",
    "        print(\"usuwam obiekt\")\n",
    "    \n",
    "    def __repr__(self):\n",
    "        return \"{} {} \".format(self.brand, self.model)\n",
    "    \n",
    "    def wheels_count(self):\n",
    "        return self.wheels"
   ]
  },
  {
   "cell_type": "code",
   "execution_count": 94,
   "metadata": {},
   "outputs": [],
   "source": [
    "pierwszy = Car('red', \"BWM\", \"320i\", 4, 100)"
   ]
  },
  {
   "cell_type": "code",
   "execution_count": 95,
   "metadata": {},
   "outputs": [
    {
     "data": {
      "text/plain": [
       "1"
      ]
     },
     "execution_count": 95,
     "metadata": {},
     "output_type": "execute_result"
    }
   ],
   "source": [
    "pierwszy.car_id"
   ]
  },
  {
   "cell_type": "code",
   "execution_count": 115,
   "metadata": {},
   "outputs": [],
   "source": [
    "class Car:\n",
    "    '''This is Car model'''\n",
    "    wheels = 4\n",
    "\n",
    "    \n",
    "    def __init__(self, color, brand, model, doors_no, speed=0):\n",
    "        self.color = color\n",
    "        self.brand = brand\n",
    "        self.model = model\n",
    "        self.doors_no = doors_no\n",
    "        self.speed = speed\n",
    "        \n",
    "    \n",
    "    def __repr__(self):\n",
    "        return \"{} {} \".format(self.brand, self.model)\n",
    "    \n",
    "    def __gt__(self, other):\n",
    "        return self.speed > other.speed\n",
    "    "
   ]
  },
  {
   "cell_type": "code",
   "execution_count": 109,
   "metadata": {},
   "outputs": [],
   "source": [
    "bmw = Car('red', \"BWM\", \"320i\", 4, 100)"
   ]
  },
  {
   "cell_type": "code",
   "execution_count": 110,
   "metadata": {},
   "outputs": [],
   "source": [
    "mazda = Car('red', \"Mazda\", \"6\", 4, 216)"
   ]
  },
  {
   "cell_type": "code",
   "execution_count": 111,
   "metadata": {},
   "outputs": [
    {
     "data": {
      "text/plain": [
       "False"
      ]
     },
     "execution_count": 111,
     "metadata": {},
     "output_type": "execute_result"
    }
   ],
   "source": [
    "bmw > mazda"
   ]
  },
  {
   "cell_type": "markdown",
   "metadata": {},
   "source": [
    "# Dziedziczenie"
   ]
  },
  {
   "cell_type": "code",
   "execution_count": 125,
   "metadata": {},
   "outputs": [],
   "source": [
    "class Truck(Car):\n",
    "    wheels = 12\n",
    "    \n",
    "    def __init__(self, load, *args, **kwargs):\n",
    "        super().__init__(*args, **kwargs)\n",
    "        self.load = load\n",
    "        "
   ]
  },
  {
   "cell_type": "code",
   "execution_count": 126,
   "metadata": {},
   "outputs": [],
   "source": [
    "scania = Truck(30, \"Blue\", \"scania\", \"123\", 2)"
   ]
  },
  {
   "cell_type": "code",
   "execution_count": 127,
   "metadata": {},
   "outputs": [
    {
     "name": "stdout",
     "output_type": "stream",
     "text": [
      "30\n"
     ]
    }
   ],
   "source": [
    "print(scania.load)"
   ]
  },
  {
   "cell_type": "code",
   "execution_count": 152,
   "metadata": {},
   "outputs": [],
   "source": [
    "class ParkingLot:\n",
    "    \n",
    "    def __init__(self, cars=None):\n",
    "        if cars is None:\n",
    "            self.cars = []\n",
    "        else:\n",
    "            self.cars = cars\n",
    "            \n",
    "    def list_all_cars(self):\n",
    "        for car in self.cars:\n",
    "            print(car)\n",
    "            \n",
    "    def add_new_car(self, car):\n",
    "        if car not in self.cars:\n",
    "            self.cars.append(car)\n",
    "        \n",
    "    def __len__(self):\n",
    "        return len(self.cars)\n",
    "        "
   ]
  },
  {
   "cell_type": "code",
   "execution_count": 146,
   "metadata": {},
   "outputs": [],
   "source": [
    "nasz_parking = [Car('red', \"Mazda\", \"6\", 4, 216), Car('red', \"bmw\", \"5\", 4,100), \n",
    "                Car('red', \"toyota\", \"auris\", 4, 200)]"
   ]
  },
  {
   "cell_type": "code",
   "execution_count": 147,
   "metadata": {},
   "outputs": [
    {
     "data": {
      "text/plain": [
       "3"
      ]
     },
     "execution_count": 147,
     "metadata": {},
     "output_type": "execute_result"
    }
   ],
   "source": [
    "len(nasz_parking)"
   ]
  },
  {
   "cell_type": "code",
   "execution_count": 148,
   "metadata": {},
   "outputs": [],
   "source": [
    "obiekt_parking = ParkingLot(nasz_parking)"
   ]
  },
  {
   "cell_type": "code",
   "execution_count": 149,
   "metadata": {},
   "outputs": [
    {
     "name": "stdout",
     "output_type": "stream",
     "text": [
      "Mazda 6 \n",
      "bmw 5 \n",
      "toyota auris \n"
     ]
    }
   ],
   "source": [
    "obiekt_parking.list_all_cars()"
   ]
  },
  {
   "cell_type": "code",
   "execution_count": 150,
   "metadata": {},
   "outputs": [],
   "source": [
    "obiekt_parking.add_new_car(Car('yellow', 'mercedes', \"c\", 4, 160))"
   ]
  },
  {
   "cell_type": "code",
   "execution_count": 143,
   "metadata": {},
   "outputs": [
    {
     "name": "stdout",
     "output_type": "stream",
     "text": [
      "Mazda 6 \n",
      "bmw 5 \n",
      "toyota auris \n",
      "mercedes c \n"
     ]
    }
   ],
   "source": [
    "obiekt_parking.list_all_cars()"
   ]
  },
  {
   "cell_type": "code",
   "execution_count": 151,
   "metadata": {},
   "outputs": [
    {
     "data": {
      "text/plain": [
       "4"
      ]
     },
     "execution_count": 151,
     "metadata": {},
     "output_type": "execute_result"
    }
   ],
   "source": [
    "len(obiekt_parking)"
   ]
  },
  {
   "cell_type": "code",
   "execution_count": 153,
   "metadata": {},
   "outputs": [
    {
     "name": "stdout",
     "output_type": "stream",
     "text": [
      "Help on class Truck in module __main__:\n",
      "\n",
      "class Truck(Car)\n",
      " |  This is Car model\n",
      " |  \n",
      " |  Method resolution order:\n",
      " |      Truck\n",
      " |      Car\n",
      " |      builtins.object\n",
      " |  \n",
      " |  Methods defined here:\n",
      " |  \n",
      " |  __init__(self, load, *args, **kwargs)\n",
      " |      Initialize self.  See help(type(self)) for accurate signature.\n",
      " |  \n",
      " |  ----------------------------------------------------------------------\n",
      " |  Data and other attributes defined here:\n",
      " |  \n",
      " |  wheels = 12\n",
      " |  \n",
      " |  ----------------------------------------------------------------------\n",
      " |  Methods inherited from Car:\n",
      " |  \n",
      " |  __gt__(self, other)\n",
      " |      Return self>value.\n",
      " |  \n",
      " |  __repr__(self)\n",
      " |      Return repr(self).\n",
      " |  \n",
      " |  ----------------------------------------------------------------------\n",
      " |  Data descriptors inherited from Car:\n",
      " |  \n",
      " |  __dict__\n",
      " |      dictionary for instance variables (if defined)\n",
      " |  \n",
      " |  __weakref__\n",
      " |      list of weak references to the object (if defined)\n",
      "\n"
     ]
    }
   ],
   "source": [
    "help(Truck)"
   ]
  },
  {
   "cell_type": "code",
   "execution_count": 154,
   "metadata": {},
   "outputs": [],
   "source": [
    "class Garage(list):\n",
    "    def iterate_over_cars(self):\n",
    "        for car in self.__iter__():\n",
    "            print(car)"
   ]
  },
  {
   "cell_type": "code",
   "execution_count": 155,
   "metadata": {},
   "outputs": [],
   "source": [
    "x_garage = Garage()"
   ]
  },
  {
   "cell_type": "code",
   "execution_count": 156,
   "metadata": {},
   "outputs": [],
   "source": [
    "x_garage.append(bmw)"
   ]
  },
  {
   "cell_type": "code",
   "execution_count": 157,
   "metadata": {},
   "outputs": [
    {
     "name": "stdout",
     "output_type": "stream",
     "text": [
      "BWM 320i \n"
     ]
    }
   ],
   "source": [
    "x_garage.iterate_over_cars()"
   ]
  },
  {
   "cell_type": "code",
   "execution_count": null,
   "metadata": {},
   "outputs": [],
   "source": []
  }
 ],
 "metadata": {
  "kernelspec": {
   "display_name": "Python 3",
   "language": "python",
   "name": "python3"
  },
  "language_info": {
   "codemirror_mode": {
    "name": "ipython",
    "version": 3
   },
   "file_extension": ".py",
   "mimetype": "text/x-python",
   "name": "python",
   "nbconvert_exporter": "python",
   "pygments_lexer": "ipython3",
   "version": "3.5.2"
  }
 },
 "nbformat": 4,
 "nbformat_minor": 2
}
