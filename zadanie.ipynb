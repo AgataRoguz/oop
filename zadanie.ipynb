{
 "cells": [
  {
   "cell_type": "code",
   "execution_count": 1,
   "metadata": {
    "collapsed": true
   },
   "outputs": [],
   "source": [
    "class Klasa:\n",
    "    def __init__(self, name, score=None):\n",
    "        self.name = name\n",
    "        if score is None:\n",
    "            self.score = []\n",
    "        else:\n",
    "            self.score = score\n",
    "        \n",
    "        self.mean = sum(score) / len(score)\n",
    "\n",
    "    def __repr__(self):\n",
    "        return  \"{} {} \".format(self.name, self.mean)\n",
    "\n",
    "    def __float__(self):\n",
    "        return self.mean\n",
    "\n",
    "class Klasa_means(list):\n",
    "    def mediana(self):\n",
    "        self.mediana = []\n",
    "        \n",
    "        for score in self.__iter__():\n",
    "            self.mediana.append(float(score))\n",
    "        \n",
    "        self.mediana = sorted(self.mediana)\n",
    "        n = len(self.mediana)\n",
    "        if n % 2 == 1:\n",
    "            return self.mediana[n//2]\n",
    "        else:\n",
    "            return sum(self.mediana[n//2-1:n//2+1])/2.0\\\n",
    "        "
   ]
  },
  {
   "cell_type": "code",
   "execution_count": 2,
   "metadata": {
    "collapsed": true
   },
   "outputs": [],
   "source": [
    "uczen1 = Klasa(\"Andrzej\", [3,4,5])"
   ]
  },
  {
   "cell_type": "code",
   "execution_count": 3,
   "metadata": {
    "collapsed": true
   },
   "outputs": [],
   "source": [
    "uczen3 = Klasa(\"Marta\", [3,4,5,6,6])"
   ]
  },
  {
   "cell_type": "code",
   "execution_count": 4,
   "metadata": {
    "collapsed": true
   },
   "outputs": [],
   "source": [
    "klasa = Klasa_means()"
   ]
  },
  {
   "cell_type": "code",
   "execution_count": 5,
   "metadata": {
    "collapsed": true
   },
   "outputs": [],
   "source": [
    "klasa.append(uczen1)"
   ]
  },
  {
   "cell_type": "code",
   "execution_count": 6,
   "metadata": {
    "collapsed": true
   },
   "outputs": [],
   "source": [
    "klasa.append(uczen3)"
   ]
  },
  {
   "cell_type": "code",
   "execution_count": 7,
   "metadata": {
    "collapsed": false
   },
   "outputs": [
    {
     "data": {
      "text/plain": [
       "4.4"
      ]
     },
     "execution_count": 7,
     "metadata": {},
     "output_type": "execute_result"
    }
   ],
   "source": [
    "klasa.mediana()"
   ]
  },
  {
   "cell_type": "code",
   "execution_count": 8,
   "metadata": {
    "collapsed": false
   },
   "outputs": [
    {
     "data": {
      "text/plain": [
       "Marta 4.8 "
      ]
     },
     "execution_count": 8,
     "metadata": {},
     "output_type": "execute_result"
    }
   ],
   "source": [
    "uczen3"
   ]
  },
  {
   "cell_type": "code",
   "execution_count": null,
   "metadata": {
    "collapsed": true
   },
   "outputs": [],
   "source": []
  }
 ],
 "metadata": {
  "kernelspec": {
   "display_name": "Python 3",
   "language": "python",
   "name": "python3"
  },
  "language_info": {
   "codemirror_mode": {
    "name": "ipython",
    "version": 3
   },
   "file_extension": ".py",
   "mimetype": "text/x-python",
   "name": "python",
   "nbconvert_exporter": "python",
   "pygments_lexer": "ipython3",
   "version": "3.6.0"
  }
 },
 "nbformat": 4,
 "nbformat_minor": 2
}
